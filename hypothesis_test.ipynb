{
 "cells": [
  {
   "cell_type": "code",
   "execution_count": 1,
   "metadata": {},
   "outputs": [],
   "source": [
    "import numpy as np\n",
    "import pandas as pd\n"
   ]
  },
  {
   "cell_type": "code",
   "execution_count": 2,
   "metadata": {},
   "outputs": [
    {
     "data": {
      "text/plain": [
       "0    False\n",
       "1     True\n",
       "2     True\n",
       "3     True\n",
       "4     True\n",
       "Name: label, dtype: bool"
      ]
     },
     "execution_count": 2,
     "metadata": {},
     "output_type": "execute_result"
    }
   ],
   "source": [
    "df = pd.read_csv(\"dataset.csv\")\n",
    "#DataFlair - Get the labels\n",
    "labels=df.label\n",
    "labels.head()"
   ]
  },
  {
   "cell_type": "code",
   "execution_count": 3,
   "metadata": {},
   "outputs": [
    {
     "data": {
      "text/html": [
       "<div>\n",
       "<style scoped>\n",
       "    .dataframe tbody tr th:only-of-type {\n",
       "        vertical-align: middle;\n",
       "    }\n",
       "\n",
       "    .dataframe tbody tr th {\n",
       "        vertical-align: top;\n",
       "    }\n",
       "\n",
       "    .dataframe thead th {\n",
       "        text-align: right;\n",
       "    }\n",
       "</style>\n",
       "<table border=\"1\" class=\"dataframe\">\n",
       "  <thead>\n",
       "    <tr style=\"text-align: right;\">\n",
       "      <th></th>\n",
       "      <th>title_name</th>\n",
       "      <th>label</th>\n",
       "      <th>clean_msg</th>\n",
       "      <th>msg_lower</th>\n",
       "      <th>msg_tokenized</th>\n",
       "      <th>msg_tokenize_freq</th>\n",
       "      <th>no_stopwords</th>\n",
       "      <th>stemword</th>\n",
       "      <th>finaltext</th>\n",
       "      <th>len</th>\n",
       "    </tr>\n",
       "  </thead>\n",
       "  <tbody>\n",
       "    <tr>\n",
       "      <th>0</th>\n",
       "      <td>“Sekeluarga Kena Corona, Tinggal di Bintaro S...</td>\n",
       "      <td>False</td>\n",
       "      <td>“Sekeluarga Kena Corona Tinggal di Bintaro Se...</td>\n",
       "      <td>“sekeluarga kena corona tinggal di bintaro se...</td>\n",
       "      <td>['sekeluarga', 'kena', 'corona', 'tinggal', 'd...</td>\n",
       "      <td>[('sekeluarga', 1), ('kena', 1), ('corona', 1)...</td>\n",
       "      <td>['sekeluarga', 'kena', 'corona', 'tinggal', 'b...</td>\n",
       "      <td>['keluarga', 'kena', 'corona', 'tinggal', 'bin...</td>\n",
       "      <td>keluarga kena corona tinggal bintaro sektor 2</td>\n",
       "      <td>54</td>\n",
       "    </tr>\n",
       "    <tr>\n",
       "      <th>1</th>\n",
       "      <td>Masker LG PuriCare Generasi Terbaru Lebih Ring...</td>\n",
       "      <td>True</td>\n",
       "      <td>Masker LG PuriCare Generasi Terbaru Lebih Ring...</td>\n",
       "      <td>masker lg puricare generasi terbaru lebih ring...</td>\n",
       "      <td>['masker', 'lg', 'puricare', 'generasi', 'terb...</td>\n",
       "      <td>[('masker', 1), ('lg', 1), ('puricare', 1), ('...</td>\n",
       "      <td>['masker', 'lg', 'puricare', 'generasi', 'terb...</td>\n",
       "      <td>['masker', 'lg', 'puricare', 'generasi', 'baru...</td>\n",
       "      <td>masker lg puricare generasi baru ringan kaya f...</td>\n",
       "      <td>72</td>\n",
       "    </tr>\n",
       "    <tr>\n",
       "      <th>2</th>\n",
       "      <td>Kabar Mengejutkan Deddy Corbuzier, Sempat Krit...</td>\n",
       "      <td>True</td>\n",
       "      <td>Kabar Mengejutkan Deddy Corbuzier Sempat Kriti...</td>\n",
       "      <td>kabar mengejutkan deddy corbuzier sempat kriti...</td>\n",
       "      <td>['kabar', 'mengejutkan', 'deddy', 'corbuzier',...</td>\n",
       "      <td>[('kabar', 1), ('mengejutkan', 1), ('deddy', 1...</td>\n",
       "      <td>['kabar', 'mengejutkan', 'deddy', 'corbuzier',...</td>\n",
       "      <td>['kabar', 'kejut', 'deddy', 'corbuzier', 'krit...</td>\n",
       "      <td>kabar kejut deddy corbuzier kritishampir tingg...</td>\n",
       "      <td>79</td>\n",
       "    </tr>\n",
       "    <tr>\n",
       "      <th>3</th>\n",
       "      <td>WNI Bisa Masuk Singapura Lagi, Nih Mulai Pekan...</td>\n",
       "      <td>True</td>\n",
       "      <td>WNI Bisa Masuk Singapura Lagi Nih Mulai Pekan ...</td>\n",
       "      <td>wni bisa masuk singapura lagi nih mulai pekan ...</td>\n",
       "      <td>['wni', 'bisa', 'masuk', 'singapura', 'lagi', ...</td>\n",
       "      <td>[('wni', 1), ('bisa', 1), ('masuk', 1), ('sing...</td>\n",
       "      <td>['wni', 'masuk', 'singapura', 'nih', 'pekan']</td>\n",
       "      <td>['wni', 'masuk', 'singapura', 'nih', 'pekan']</td>\n",
       "      <td>wni masuk singapura nih pekan</td>\n",
       "      <td>52</td>\n",
       "    </tr>\n",
       "    <tr>\n",
       "      <th>4</th>\n",
       "      <td>WFO Kini 75 Persen, Ini Aturan Lengkap PPKM Le...</td>\n",
       "      <td>True</td>\n",
       "      <td>WFO Kini 75 Persen Ini Aturan Lengkap PPKM Lev...</td>\n",
       "      <td>wfo kini 75 persen ini aturan lengkap ppkm lev...</td>\n",
       "      <td>['wfo', 'kini', '75', 'persen', 'ini', 'aturan...</td>\n",
       "      <td>[('wfo', 1), ('kini', 1), ('75', 1), ('persen'...</td>\n",
       "      <td>['wfo', '75', 'persen', 'aturan', 'lengkap', '...</td>\n",
       "      <td>['wfo', '75', 'persen', 'atur', 'lengkap', 'pp...</td>\n",
       "      <td>wfo 75 persen atur lengkap ppkm level 1 dki</td>\n",
       "      <td>58</td>\n",
       "    </tr>\n",
       "  </tbody>\n",
       "</table>\n",
       "</div>"
      ],
      "text/plain": [
       "                                          title_name  label  \\\n",
       "0   “Sekeluarga Kena Corona, Tinggal di Bintaro S...  False   \n",
       "1  Masker LG PuriCare Generasi Terbaru Lebih Ring...   True   \n",
       "2  Kabar Mengejutkan Deddy Corbuzier, Sempat Krit...   True   \n",
       "3  WNI Bisa Masuk Singapura Lagi, Nih Mulai Pekan...   True   \n",
       "4  WFO Kini 75 Persen, Ini Aturan Lengkap PPKM Le...   True   \n",
       "\n",
       "                                           clean_msg  \\\n",
       "0   “Sekeluarga Kena Corona Tinggal di Bintaro Se...   \n",
       "1  Masker LG PuriCare Generasi Terbaru Lebih Ring...   \n",
       "2  Kabar Mengejutkan Deddy Corbuzier Sempat Kriti...   \n",
       "3  WNI Bisa Masuk Singapura Lagi Nih Mulai Pekan ...   \n",
       "4  WFO Kini 75 Persen Ini Aturan Lengkap PPKM Lev...   \n",
       "\n",
       "                                           msg_lower  \\\n",
       "0   “sekeluarga kena corona tinggal di bintaro se...   \n",
       "1  masker lg puricare generasi terbaru lebih ring...   \n",
       "2  kabar mengejutkan deddy corbuzier sempat kriti...   \n",
       "3  wni bisa masuk singapura lagi nih mulai pekan ...   \n",
       "4  wfo kini 75 persen ini aturan lengkap ppkm lev...   \n",
       "\n",
       "                                       msg_tokenized  \\\n",
       "0  ['sekeluarga', 'kena', 'corona', 'tinggal', 'd...   \n",
       "1  ['masker', 'lg', 'puricare', 'generasi', 'terb...   \n",
       "2  ['kabar', 'mengejutkan', 'deddy', 'corbuzier',...   \n",
       "3  ['wni', 'bisa', 'masuk', 'singapura', 'lagi', ...   \n",
       "4  ['wfo', 'kini', '75', 'persen', 'ini', 'aturan...   \n",
       "\n",
       "                                   msg_tokenize_freq  \\\n",
       "0  [('sekeluarga', 1), ('kena', 1), ('corona', 1)...   \n",
       "1  [('masker', 1), ('lg', 1), ('puricare', 1), ('...   \n",
       "2  [('kabar', 1), ('mengejutkan', 1), ('deddy', 1...   \n",
       "3  [('wni', 1), ('bisa', 1), ('masuk', 1), ('sing...   \n",
       "4  [('wfo', 1), ('kini', 1), ('75', 1), ('persen'...   \n",
       "\n",
       "                                        no_stopwords  \\\n",
       "0  ['sekeluarga', 'kena', 'corona', 'tinggal', 'b...   \n",
       "1  ['masker', 'lg', 'puricare', 'generasi', 'terb...   \n",
       "2  ['kabar', 'mengejutkan', 'deddy', 'corbuzier',...   \n",
       "3      ['wni', 'masuk', 'singapura', 'nih', 'pekan']   \n",
       "4  ['wfo', '75', 'persen', 'aturan', 'lengkap', '...   \n",
       "\n",
       "                                            stemword  \\\n",
       "0  ['keluarga', 'kena', 'corona', 'tinggal', 'bin...   \n",
       "1  ['masker', 'lg', 'puricare', 'generasi', 'baru...   \n",
       "2  ['kabar', 'kejut', 'deddy', 'corbuzier', 'krit...   \n",
       "3      ['wni', 'masuk', 'singapura', 'nih', 'pekan']   \n",
       "4  ['wfo', '75', 'persen', 'atur', 'lengkap', 'pp...   \n",
       "\n",
       "                                           finaltext  len  \n",
       "0      keluarga kena corona tinggal bintaro sektor 2   54  \n",
       "1  masker lg puricare generasi baru ringan kaya f...   72  \n",
       "2  kabar kejut deddy corbuzier kritishampir tingg...   79  \n",
       "3                      wni masuk singapura nih pekan   52  \n",
       "4        wfo 75 persen atur lengkap ppkm level 1 dki   58  "
      ]
     },
     "execution_count": 3,
     "metadata": {},
     "output_type": "execute_result"
    }
   ],
   "source": [
    "df['len']= df['title_name'].apply(lambda x:len(x))\n",
    "df.head()"
   ]
  },
  {
   "cell_type": "code",
   "execution_count": 5,
   "metadata": {},
   "outputs": [
    {
     "data": {
      "text/plain": [
       "label\n",
       "False    67.951628\n",
       "True     64.891667\n",
       "Name: len, dtype: float64"
      ]
     },
     "execution_count": 5,
     "metadata": {},
     "output_type": "execute_result"
    }
   ],
   "source": [
    "means = df.groupby('label')['len'].mean()\n",
    "means"
   ]
  }
 ],
 "metadata": {
  "interpreter": {
   "hash": "9d1b63286dc1c4f6191893ff8180155c42099c6bfce75ae0a4164106cca6933d"
  },
  "kernelspec": {
   "display_name": "Python 3.9.9 64-bit (windows store)",
   "language": "python",
   "name": "python3"
  },
  "language_info": {
   "codemirror_mode": {
    "name": "ipython",
    "version": 3
   },
   "file_extension": ".py",
   "mimetype": "text/x-python",
   "name": "python",
   "nbconvert_exporter": "python",
   "pygments_lexer": "ipython3",
   "version": "3.9.9"
  },
  "orig_nbformat": 4
 },
 "nbformat": 4,
 "nbformat_minor": 2
}
