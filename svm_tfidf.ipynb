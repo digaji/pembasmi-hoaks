{
 "cells": [
  {
   "cell_type": "code",
   "execution_count": 11,
   "metadata": {},
   "outputs": [],
   "source": [
    "import numpy as np\n",
    "import pandas as pd\n",
    "import itertools\n",
    "from sklearn.model_selection import train_test_split\n",
    "from sklearn.feature_extraction.text import TfidfVectorizer\n",
    "from sklearn.linear_model import PassiveAggressiveClassifier\n",
    "from sklearn.naive_bayes import MultinomialNB\n",
    "from sklearn.metrics import classification_report\n",
    "from sklearn.metrics import accuracy_score, confusion_matrix\n",
    "import matplotlib.pyplot as plt\n",
    "from sklearn import model_selection, naive_bayes, svm\n",
    "import string\n",
    "import re\n",
    "from Sastrawi.Stemmer.StemmerFactory import StemmerFactory\n",
    "import nltk\n",
    "import csv"
   ]
  },
  {
   "cell_type": "code",
   "execution_count": 12,
   "metadata": {},
   "outputs": [
    {
     "data": {
      "text/plain": [
       "0    False\n",
       "1     True\n",
       "2     True\n",
       "3     True\n",
       "4     True\n",
       "Name: label, dtype: bool"
      ]
     },
     "execution_count": 12,
     "metadata": {},
     "output_type": "execute_result"
    }
   ],
   "source": [
    "df = pd.read_csv(\"dataset.csv\")\n",
    "#DataFlair - Get the labels\n",
    "labels=df.label\n",
    "labels.head()"
   ]
  },
  {
   "cell_type": "code",
   "execution_count": 13,
   "metadata": {},
   "outputs": [],
   "source": [
    "#DataFlair - Split the dataset\n",
    "x_train,x_test,y_train,y_test=train_test_split(df['finaltext'], labels, test_size=0.2, random_state=7)"
   ]
  },
  {
   "cell_type": "code",
   "execution_count": 14,
   "metadata": {},
   "outputs": [],
   "source": [
    "#DataFlair - Initialize a TfidfVectorizer\n",
    "tfidf_vectorizer=TfidfVectorizer(max_df=0.7)\n",
    "\n",
    "#DataFlair - Fit and transform train set, transform test set\n",
    "tfidf_train=tfidf_vectorizer.fit_transform(x_train).toarray()\n",
    "tfidf_test=tfidf_vectorizer.transform(x_test).toarray()"
   ]
  },
  {
   "cell_type": "code",
   "execution_count": 15,
   "metadata": {},
   "outputs": [
    {
     "name": "stderr",
     "output_type": "stream",
     "text": [
      "C:\\Users\\Monique\\AppData\\Local\\Packages\\PythonSoftwareFoundation.Python.3.9_qbz5n2kfra8p0\\LocalCache\\local-packages\\Python39\\site-packages\\sklearn\\utils\\deprecation.py:87: FutureWarning: Function get_feature_names is deprecated; get_feature_names is deprecated in 1.0 and will be removed in 1.2. Please use get_feature_names_out instead.\n",
      "  warnings.warn(msg, category=FutureWarning)\n"
     ]
    },
    {
     "data": {
      "text/html": [
       "<div>\n",
       "<style scoped>\n",
       "    .dataframe tbody tr th:only-of-type {\n",
       "        vertical-align: middle;\n",
       "    }\n",
       "\n",
       "    .dataframe tbody tr th {\n",
       "        vertical-align: top;\n",
       "    }\n",
       "\n",
       "    .dataframe thead th {\n",
       "        text-align: right;\n",
       "    }\n",
       "</style>\n",
       "<table border=\"1\" class=\"dataframe\">\n",
       "  <thead>\n",
       "    <tr style=\"text-align: right;\">\n",
       "      <th></th>\n",
       "      <th>term</th>\n",
       "      <th>rank</th>\n",
       "    </tr>\n",
       "  </thead>\n",
       "  <tbody>\n",
       "    <tr>\n",
       "      <th>1527</th>\n",
       "      <td>covid19</td>\n",
       "      <td>242.940196</td>\n",
       "    </tr>\n",
       "    <tr>\n",
       "      <th>1514</th>\n",
       "      <td>corona</td>\n",
       "      <td>199.830409</td>\n",
       "    </tr>\n",
       "    <tr>\n",
       "      <th>6320</th>\n",
       "      <td>vaksin</td>\n",
       "      <td>183.392105</td>\n",
       "    </tr>\n",
       "    <tr>\n",
       "      <th>5083</th>\n",
       "      <td>ri</td>\n",
       "      <td>167.428751</td>\n",
       "    </tr>\n",
       "    <tr>\n",
       "      <th>4303</th>\n",
       "      <td>omicron</td>\n",
       "      <td>137.292826</td>\n",
       "    </tr>\n",
       "    <tr>\n",
       "      <th>...</th>\n",
       "      <td>...</td>\n",
       "      <td>...</td>\n",
       "    </tr>\n",
       "    <tr>\n",
       "      <th>4232</th>\n",
       "      <td>nose</td>\n",
       "      <td>0.236800</td>\n",
       "    </tr>\n",
       "    <tr>\n",
       "      <th>2134</th>\n",
       "      <td>ge</td>\n",
       "      <td>0.236800</td>\n",
       "    </tr>\n",
       "    <tr>\n",
       "      <th>523</th>\n",
       "      <td>999</td>\n",
       "      <td>0.236800</td>\n",
       "    </tr>\n",
       "    <tr>\n",
       "      <th>630</th>\n",
       "      <td>akurasi</td>\n",
       "      <td>0.236800</td>\n",
       "    </tr>\n",
       "    <tr>\n",
       "      <th>5392</th>\n",
       "      <td>selfi</td>\n",
       "      <td>0.217397</td>\n",
       "    </tr>\n",
       "  </tbody>\n",
       "</table>\n",
       "<p>6539 rows × 2 columns</p>\n",
       "</div>"
      ],
      "text/plain": [
       "         term        rank\n",
       "1527  covid19  242.940196\n",
       "1514   corona  199.830409\n",
       "6320   vaksin  183.392105\n",
       "5083       ri  167.428751\n",
       "4303  omicron  137.292826\n",
       "...       ...         ...\n",
       "4232     nose    0.236800\n",
       "2134       ge    0.236800\n",
       "523       999    0.236800\n",
       "630   akurasi    0.236800\n",
       "5392    selfi    0.217397\n",
       "\n",
       "[6539 rows x 2 columns]"
      ]
     },
     "execution_count": 15,
     "metadata": {},
     "output_type": "execute_result"
    }
   ],
   "source": [
    "terms = tfidf_vectorizer.get_feature_names()\n",
    "# sum tfidf frequency of each term through documents\n",
    "sums = tfidf_train.sum(axis=0)\n",
    "# connecting term to its sums frequency\n",
    "data = []\n",
    "for col, term in enumerate(terms):\n",
    "    data.append((term, sums[col] ))\n",
    "\n",
    "ranking = pd.DataFrame(data, columns=['term','rank'])\n",
    "ranking.sort_values('rank', ascending=False)"
   ]
  },
  {
   "cell_type": "code",
   "execution_count": 16,
   "metadata": {},
   "outputs": [
    {
     "data": {
      "image/png": "[encoded data removed]",
      "text/plain": [
       "<Figure size 1008x576 with 1 Axes>"
      ]
     },
     "metadata": {
      "needs_background": "light"
     },
     "output_type": "display_data"
    }
   ],
   "source": [
    "ax = df['label'].value_counts().plot(kind='bar',\n",
    "                                    figsize=(14,8),\n",
    "                                    title=\"Label count\")"
   ]
  },
  {
   "cell_type": "code",
   "execution_count": 17,
   "metadata": {},
   "outputs": [
    {
     "data": {
      "text/plain": [
       "0         True\n",
       "1         True\n",
       "2         True\n",
       "3         True\n",
       "4         True\n",
       "         ...  \n",
       "11543    False\n",
       "11544    False\n",
       "11545    False\n",
       "11546    False\n",
       "11547    False\n",
       "Name: label, Length: 11548, dtype: bool"
      ]
     },
     "execution_count": 17,
     "metadata": {},
     "output_type": "execute_result"
    }
   ],
   "source": [
    "from imblearn.over_sampling import SMOTE\n",
    "smote = SMOTE(random_state = 101)\n",
    "X_oversample, y_oversample = smote.fit_resample(tfidf_train, y_train)\n",
    "y_oversample"
   ]
  },
  {
   "cell_type": "code",
   "execution_count": 18,
   "metadata": {},
   "outputs": [
    {
     "data": {
      "image/png": "[encoded data removed]",
      "text/plain": [
       "<Figure size 1008x576 with 1 Axes>"
      ]
     },
     "metadata": {
      "needs_background": "light"
     },
     "output_type": "display_data"
    }
   ],
   "source": [
    "oversample_df = pd.DataFrame(y_oversample)\n",
    "ax = oversample_df['label'].value_counts().plot(kind='bar',\n",
    "                                    figsize=(14,8),\n",
    "                                    title=\"Label count\")"
   ]
  },
  {
   "cell_type": "code",
   "execution_count": 19,
   "metadata": {},
   "outputs": [
    {
     "name": "stdout",
     "output_type": "stream",
     "text": [
      "              precision    recall  f1-score   support\n",
      "\n",
      "       False       0.86      0.65      0.74       229\n",
      "        True       0.95      0.98      0.96      1426\n",
      "\n",
      "    accuracy                           0.94      1655\n",
      "   macro avg       0.90      0.81      0.85      1655\n",
      "weighted avg       0.93      0.94      0.93      1655\n",
      "\n",
      "Accuracy: 93.6%\n"
     ]
    }
   ],
   "source": [
    "SVM = svm.SVC(C=1.0, kernel='rbf', degree=3, gamma=0.1)\n",
    "SVM.fit(X_oversample,y_oversample)# predict the labels on validation dataset\n",
    "y_pred = SVM.predict(tfidf_test)# Use accuracy_score function to get the accuracy\n",
    "score=accuracy_score(y_test,y_pred)\n",
    "print(classification_report(y_test, y_pred))\n",
    "print(f'Accuracy: {round(score*100,2)}%')\n",
    "#DataFlair - Build confusion matrix\n",
    "cf_matrix = confusion_matrix(y_test,y_pred)\n",
    "\n"
   ]
  },
  {
   "cell_type": "code",
   "execution_count": 20,
   "metadata": {},
   "outputs": [
    {
     "data": {
      "image/png": "[encoded data removed]",
      "text/plain": [
       "<Figure size 432x288 with 2 Axes>"
      ]
     },
     "metadata": {
      "needs_background": "light"
     },
     "output_type": "display_data"
    }
   ],
   "source": [
    "import seaborn as sns\n",
    "\n",
    "ax = sns.heatmap(cf_matrix, annot=True, cmap='Blues')\n",
    "\n",
    "ax.set_title('svm using cv\\n\\n');\n",
    "ax.set_xlabel('\\nPredicted Values')\n",
    "ax.set_ylabel('Actual Values ');\n",
    "\n",
    "## Ticket labels - List must be in alphabetical order\n",
    "ax.xaxis.set_ticklabels(['False','True'])\n",
    "ax.yaxis.set_ticklabels(['False','True'])\n",
    "\n",
    "## Display the visualization of the Confusion Matrix.\n",
    "plt.show()"
   ]
  },
  {
   "cell_type": "code",
   "execution_count": 21,
   "metadata": {},
   "outputs": [],
   "source": [
    "# gamma = [0.1, 0.5, 1, 3]\n",
    "# c = [0.08, 1.0, 10.0]\n",
    "# labels = [[]]\n",
    "# for k in range(10):\n",
    "#     times = []\n",
    "#     for i in gamma:\n",
    "#         for j in c:\n",
    "#             if k == 0:\n",
    "#                 label = \"g: \" + str(i) + \" c: \" + str(j)\n",
    "#                 labels[0].append(label)\n",
    "#             SVM = svm.SVC(C=j, kernel='rbf', degree=3, gamma=i)\n",
    "#             SVM.fit(X_oversample,y_oversample)# predict the labels on validation dataset\n",
    "#             y_pred = SVM.predict(tfidf_test)# Use accuracy_score function to get the accuracy\n",
    "#             score=accuracy_score(y_test,y_pred)\n",
    "#             print(classification_report(y_test, y_pred))\n",
    "#             print(f'Accuracy: {round(score*100,2)}%')\n",
    "#             times.append(round(score*100,2))\n",
    "#             #DataFlair - Build confusion matrix\n",
    "#             confusion_matrix(y_test,y_pred)\n",
    "#     labels.append(times)\n",
    "\n",
    "# with open('svm_tfidf.csv', 'w') as f:\n",
    "      \n",
    "#     # using csv.writer method from CSV package\n",
    "#     write = csv.writer(f)\n",
    "      \n",
    "#     write.writerows(labels)"
   ]
  },
  {
   "cell_type": "code",
   "execution_count": 22,
   "metadata": {},
   "outputs": [
    {
     "name": "stdout",
     "output_type": "stream",
     "text": [
      "              precision    recall  f1-score   support\n",
      "\n",
      "       False       0.44      0.90      0.59       229\n",
      "        True       0.98      0.81      0.89      1426\n",
      "\n",
      "    accuracy                           0.83      1655\n",
      "   macro avg       0.71      0.85      0.74      1655\n",
      "weighted avg       0.90      0.83      0.85      1655\n",
      "\n",
      "Accuracy: 82.54%\n"
     ]
    },
    {
     "data": {
      "text/plain": [
       "array([[ 205,   24],\n",
       "       [ 265, 1161]], dtype=int64)"
      ]
     },
     "execution_count": 22,
     "metadata": {},
     "output_type": "execute_result"
    }
   ],
   "source": [
    "# Classifier - Algorithm - SVM\n",
    "# fit the training dataset on the classifier\n",
    "\n",
    "# mainin gamma and c to make annova thing\n",
    "SVM = svm.SVC(C=1.0, kernel='rbf', degree=3, gamma='auto')\n",
    "SVM.fit(X_oversample,y_oversample)# predict the labels on validation dataset\n",
    "y_pred = SVM.predict(tfidf_test)# Use accuracy_score function to get the accuracy\n",
    "score=accuracy_score(y_test,y_pred)\n",
    "print(classification_report(y_test, y_pred))\n",
    "print(f'Accuracy: {round(score*100,2)}%')\n",
    "#DataFlair - Build confusion matrix\n",
    "confusion_matrix(y_test,y_pred)"
   ]
  }
 ],
 "metadata": {
  "interpreter": {
   "hash": "13eb0af71620a846e484681143862ad0a4deab6cadfc353264e5c14897c11035"
  },
  "kernelspec": {
   "display_name": "Python 3.9.9 64-bit",
   "language": "python",
   "name": "python3"
  },
  "language_info": {
   "codemirror_mode": {
    "name": "ipython",
    "version": 3
   },
   "file_extension": ".py",
   "mimetype": "text/x-python",
   "name": "python",
   "nbconvert_exporter": "python",
   "pygments_lexer": "ipython3",
   "version": "3.9.9"
  },
  "orig_nbformat": 4
 },
 "nbformat": 4,
 "nbformat_minor": 2
}
