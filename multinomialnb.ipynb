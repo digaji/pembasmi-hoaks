{
 "cells": [
  {
   "cell_type": "code",
   "execution_count": 2,
   "metadata": {},
   "outputs": [],
   "source": [
    "import numpy as np\n",
    "import pandas as pd\n",
    "import itertools\n",
    "from sklearn.model_selection import train_test_split\n",
    "from sklearn.feature_extraction.text import TfidfVectorizer\n",
    "from sklearn.linear_model import PassiveAggressiveClassifier\n",
    "from sklearn.naive_bayes import MultinomialNB\n",
    "from sklearn.metrics import accuracy_score, confusion_matrix\n",
    "import matplotlib.pyplot as plt"
   ]
  },
  {
   "cell_type": "code",
   "execution_count": 3,
   "metadata": {},
   "outputs": [
    {
     "data": {
      "text/html": [
       "<div>\n",
       "<style scoped>\n",
       "    .dataframe tbody tr th:only-of-type {\n",
       "        vertical-align: middle;\n",
       "    }\n",
       "\n",
       "    .dataframe tbody tr th {\n",
       "        vertical-align: top;\n",
       "    }\n",
       "\n",
       "    .dataframe thead th {\n",
       "        text-align: right;\n",
       "    }\n",
       "</style>\n",
       "<table border=\"1\" class=\"dataframe\">\n",
       "  <thead>\n",
       "    <tr style=\"text-align: right;\">\n",
       "      <th></th>\n",
       "      <th>title_name</th>\n",
       "      <th>label</th>\n",
       "    </tr>\n",
       "  </thead>\n",
       "  <tbody>\n",
       "    <tr>\n",
       "      <th>0</th>\n",
       "      <td>Air Mata Keluarga Iringi Peresmian Monumen Pah...</td>\n",
       "      <td>True</td>\n",
       "    </tr>\n",
       "    <tr>\n",
       "      <th>1</th>\n",
       "      <td>“SEHARI SETELAH DILAKUKAN RAPID TEST COVID-19...</td>\n",
       "      <td>False</td>\n",
       "    </tr>\n",
       "    <tr>\n",
       "      <th>2</th>\n",
       "      <td>Pakar Sebut Dibukanya Kembali KCW Mampu Dongkr...</td>\n",
       "      <td>True</td>\n",
       "    </tr>\n",
       "    <tr>\n",
       "      <th>3</th>\n",
       "      <td>Ilmuwan Sebut Pandemi Setelah COVID-19 Bisa Le...</td>\n",
       "      <td>True</td>\n",
       "    </tr>\n",
       "    <tr>\n",
       "      <th>4</th>\n",
       "      <td>Kasus Pertama Varian Omicron RI Tertular dari ...</td>\n",
       "      <td>True</td>\n",
       "    </tr>\n",
       "    <tr>\n",
       "      <th>...</th>\n",
       "      <td>...</td>\n",
       "      <td>...</td>\n",
       "    </tr>\n",
       "    <tr>\n",
       "      <th>3070</th>\n",
       "      <td>Kondisi Seorang Remaja Perempuan Setelah Vaks...</td>\n",
       "      <td>False</td>\n",
       "    </tr>\n",
       "    <tr>\n",
       "      <th>3071</th>\n",
       "      <td>BPOM Ungkap Perkembangan Terkini Vaksin Merah ...</td>\n",
       "      <td>True</td>\n",
       "    </tr>\n",
       "    <tr>\n",
       "      <th>3072</th>\n",
       "      <td>Omicron Menghantui, Thailand Tangguhkan Wisata...</td>\n",
       "      <td>True</td>\n",
       "    </tr>\n",
       "    <tr>\n",
       "      <th>3073</th>\n",
       "      <td>Belanda Catat 23 Ribu Kasus Corona, Rusia Lunc...</td>\n",
       "      <td>True</td>\n",
       "    </tr>\n",
       "    <tr>\n",
       "      <th>3074</th>\n",
       "      <td>Cegah Omicron, Jepang Setop Reservasi Penerban...</td>\n",
       "      <td>True</td>\n",
       "    </tr>\n",
       "  </tbody>\n",
       "</table>\n",
       "<p>3075 rows × 2 columns</p>\n",
       "</div>"
      ],
      "text/plain": [
       "                                             title_name  label\n",
       "0     Air Mata Keluarga Iringi Peresmian Monumen Pah...   True\n",
       "1      “SEHARI SETELAH DILAKUKAN RAPID TEST COVID-19...  False\n",
       "2     Pakar Sebut Dibukanya Kembali KCW Mampu Dongkr...   True\n",
       "3     Ilmuwan Sebut Pandemi Setelah COVID-19 Bisa Le...   True\n",
       "4     Kasus Pertama Varian Omicron RI Tertular dari ...   True\n",
       "...                                                 ...    ...\n",
       "3070   Kondisi Seorang Remaja Perempuan Setelah Vaks...  False\n",
       "3071  BPOM Ungkap Perkembangan Terkini Vaksin Merah ...   True\n",
       "3072  Omicron Menghantui, Thailand Tangguhkan Wisata...   True\n",
       "3073  Belanda Catat 23 Ribu Kasus Corona, Rusia Lunc...   True\n",
       "3074  Cegah Omicron, Jepang Setop Reservasi Penerban...   True\n",
       "\n",
       "[3075 rows x 2 columns]"
      ]
     },
     "execution_count": 3,
     "metadata": {},
     "output_type": "execute_result"
    }
   ],
   "source": [
    "#Read the data\n",
    "hoax_data =pd.read_csv('clean_hoax.csv')\n",
    "real_data = pd.read_csv('clean_real.csv').head(2000)\n",
    "hoax_data['label']=['False']*len(hoax_data)\n",
    "real_data['label']=['True']*len(real_data)\n",
    "\n",
    "df=hoax_data.append(real_data).sample(frac=1).reset_index().drop(columns=['index'])\n",
    "df"
   ]
  },
  {
   "cell_type": "code",
   "execution_count": 4,
   "metadata": {},
   "outputs": [
    {
     "data": {
      "text/plain": [
       "0     True\n",
       "1    False\n",
       "2     True\n",
       "3     True\n",
       "4     True\n",
       "Name: label, dtype: object"
      ]
     },
     "execution_count": 4,
     "metadata": {},
     "output_type": "execute_result"
    }
   ],
   "source": [
    "#DataFlair - Get the labels\n",
    "labels=df.label\n",
    "labels.head()"
   ]
  },
  {
   "cell_type": "code",
   "execution_count": 5,
   "metadata": {},
   "outputs": [],
   "source": [
    "#DataFlair - Split the dataset\n",
    "x_train,x_test,y_train,y_test=train_test_split(df['title_name'], labels, test_size=0.2, random_state=7)"
   ]
  },
  {
   "cell_type": "code",
   "execution_count": 6,
   "metadata": {},
   "outputs": [],
   "source": [
    "#DataFlair - Initialize a TfidfVectorizer\n",
    "tfidf_vectorizer=TfidfVectorizer(stop_words='english', max_df=0.7)\n",
    "\n",
    "#DataFlair - Fit and transform train set, transform test set\n",
    "tfidf_train=tfidf_vectorizer.fit_transform(x_train) \n",
    "tfidf_test=tfidf_vectorizer.transform(x_test)"
   ]
  },
  {
   "cell_type": "code",
   "execution_count": 7,
   "metadata": {},
   "outputs": [
    {
     "name": "stdout",
     "output_type": "stream",
     "text": [
      "Accuracy: 88.94%\n"
     ]
    },
    {
     "data": {
      "text/plain": [
       "array([[393,   5],\n",
       "       [ 63, 154]], dtype=int64)"
      ]
     },
     "execution_count": 7,
     "metadata": {},
     "output_type": "execute_result"
    }
   ],
   "source": [
    "mnb = MultinomialNB() \n",
    "mnb.fit(tfidf_train, y_train)\n",
    "pred = mnb.predict(tfidf_test)\n",
    "score = accuracy_score(y_test, pred)\n",
    "print(f'Accuracy: {round(score*100,2)}%')\n",
    "#DataFlair - Build confusion matrix\n",
    "confusion_matrix(y_test,pred, labels=['True','False'])"
   ]
  },
  {
   "cell_type": "code",
   "execution_count": 24,
   "metadata": {},
   "outputs": [
    {
     "name": "stdout",
     "output_type": "stream",
     "text": [
      "['True']\n"
     ]
    }
   ],
   "source": [
    "predict_x = pd.DataFrame({\"title_name\": [\"Gagal Jantung hingga Strok adalah Gejala Omicron\"]})\n",
    "tfidf_test=tfidf_vectorizer.transform(predict_x)\n",
    "print(mnb.predict(tfidf_test))"
   ]
  }
 ],
 "metadata": {
  "interpreter": {
   "hash": "9d1b63286dc1c4f6191893ff8180155c42099c6bfce75ae0a4164106cca6933d"
  },
  "kernelspec": {
   "display_name": "Python 3.9.9 64-bit (windows store)",
   "language": "python",
   "name": "python3"
  },
  "language_info": {
   "codemirror_mode": {
    "name": "ipython",
    "version": 3
   },
   "file_extension": ".py",
   "mimetype": "text/x-python",
   "name": "python",
   "nbconvert_exporter": "python",
   "pygments_lexer": "ipython3",
   "version": "3.9.9"
  },
  "orig_nbformat": 4
 },
 "nbformat": 4,
 "nbformat_minor": 2
}
